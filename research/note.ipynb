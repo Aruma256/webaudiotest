{
 "cells": [
  {
   "cell_type": "markdown",
   "metadata": {},
   "source": [
    "# Setup"
   ]
  },
  {
   "cell_type": "code",
   "execution_count": null,
   "metadata": {},
   "outputs": [],
   "source": [
    "import json\n",
    "from pathlib import Path\n",
    "import numpy as np\n",
    "import matplotlib.pyplot as plt\n",
    "\n",
    "CUTOFF_FREQ = 600"
   ]
  },
  {
   "cell_type": "code",
   "execution_count": null,
   "metadata": {},
   "outputs": [],
   "source": [
    "def load_chars() -> dict:\n",
    "    with open('characters-conf.js') as f:\n",
    "        while True:\n",
    "            if f.read(1) == '\\n':\n",
    "                break\n",
    "        d = json.load(f)\n",
    "    for name, obj in d.items():\n",
    "        d[name]['color'] = np.array(d[name]['color'])/255\n",
    "    return d\n",
    "\n",
    "CHARS = load_chars()"
   ]
  },
  {
   "cell_type": "code",
   "execution_count": null,
   "metadata": {},
   "outputs": [],
   "source": [
    "data_path = Path('data')\n",
    "data = {}\n",
    "\n",
    "for path in data_path.glob('*.npz'):\n",
    "    name = path.name.removesuffix('.npz')\n",
    "    npz = np.load(path)\n",
    "    scale, level = npz['scale'], npz['level']\n",
    "    cutoff_idx = np.searchsorted(scale, CUTOFF_FREQ, side='right')\n",
    "    scale, level = scale[:cutoff_idx], level[:cutoff_idx]\n",
    "    level /= np.max(level)\n",
    "    data[name] = {\n",
    "        'scale': scale,\n",
    "        'level': level,\n",
    "    }"
   ]
  },
  {
   "cell_type": "markdown",
   "metadata": {},
   "source": [
    "# Summary"
   ]
  },
  {
   "cell_type": "code",
   "execution_count": null,
   "metadata": {},
   "outputs": [],
   "source": [
    "for i, (name, wave) in enumerate(data.items()):\n",
    "    peak_idx = np.argmax(wave['level'])\n",
    "    peak_freq = wave['scale'][peak_idx]\n",
    "    plt.plot(wave['scale'], wave['level'], label=name, color=CHARS[name]['color'])\n",
    "    plt.annotate(f'{peak_freq} Hz', xy=(peak_freq, 1 - i*0.05), color=CHARS[name]['color'])\n",
    "\n",
    "plt.xlabel('frequency [Hz]')\n",
    "plt.legend(loc='upper left')\n",
    "plt.show()"
   ]
  },
  {
   "cell_type": "markdown",
   "metadata": {},
   "source": [
    "# Results for each character"
   ]
  },
  {
   "cell_type": "code",
   "execution_count": null,
   "metadata": {},
   "outputs": [],
   "source": [
    "def plot_one_character(name: str, low: int, high: int):\n",
    "    low_idx = np.searchsorted(data[name]['scale'], low, side='left')\n",
    "    high_idx = np.searchsorted(data[name]['scale'], high, side='right')\n",
    "    plt.xlabel('frequency [Hz]')\n",
    "    plt.plot(data[name]['scale'][low_idx:high_idx], data[name]['level'][low_idx:high_idx], color=CHARS[name]['color'])\n",
    "    freq = CHARS[name]['freq_range'][0]\n",
    "    idx = np.searchsorted(data[name]['scale'], freq, side='left')\n",
    "    plt.annotate(f\"{freq} Hz\", xy=(freq, data[name]['level'][idx]), color=CHARS[name]['color'])\n",
    "    freq = CHARS[name]['freq_range'][1]\n",
    "    idx = np.searchsorted(data[name]['scale'], freq, side='left')\n",
    "    plt.annotate(f\"{freq} Hz\", xy=(freq, data[name]['level'][idx]), color=CHARS[name]['color'])\n",
    "    plt.show()\n"
   ]
  },
  {
   "cell_type": "markdown",
   "metadata": {},
   "source": [
    "## Susie"
   ]
  },
  {
   "cell_type": "code",
   "execution_count": null,
   "metadata": {},
   "outputs": [],
   "source": [
    "plot_one_character('susie', 160, 220)"
   ]
  },
  {
   "cell_type": "markdown",
   "metadata": {},
   "source": [
    "## Ralsei"
   ]
  },
  {
   "cell_type": "code",
   "execution_count": null,
   "metadata": {},
   "outputs": [],
   "source": [
    "plot_one_character('ralsei', 180, 280)"
   ]
  },
  {
   "cell_type": "markdown",
   "metadata": {},
   "source": [
    "## Noelle"
   ]
  },
  {
   "cell_type": "code",
   "execution_count": null,
   "metadata": {},
   "outputs": [],
   "source": [
    "plot_one_character('noelle', 280, 380)"
   ]
  },
  {
   "cell_type": "markdown",
   "metadata": {},
   "source": [
    "## Berdly"
   ]
  },
  {
   "cell_type": "code",
   "execution_count": null,
   "metadata": {},
   "outputs": [],
   "source": [
    "plot_one_character('berdly', 75, 150)"
   ]
  }
 ],
 "metadata": {
  "interpreter": {
   "hash": "8f16319bf840e176f28ee59399a961f9a652daa3ea36eec9c852d3ef746b2d22"
  },
  "kernelspec": {
   "display_name": "Python 3.9.8 64-bit",
   "language": "python",
   "name": "python3"
  },
  "language_info": {
   "codemirror_mode": {
    "name": "ipython",
    "version": 3
   },
   "file_extension": ".py",
   "mimetype": "text/x-python",
   "name": "python",
   "nbconvert_exporter": "python",
   "pygments_lexer": "ipython3",
   "version": "3.9.8"
  },
  "orig_nbformat": 4
 },
 "nbformat": 4,
 "nbformat_minor": 2
}
