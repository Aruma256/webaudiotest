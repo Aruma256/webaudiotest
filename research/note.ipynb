{
 "cells": [
  {
   "cell_type": "markdown",
   "metadata": {},
   "source": [
    "# Setup"
   ]
  },
  {
   "cell_type": "code",
   "execution_count": null,
   "metadata": {},
   "outputs": [],
   "source": [
    "from pathlib import Path\n",
    "import numpy as np\n",
    "import matplotlib.pyplot as plt\n",
    "\n",
    "CUTOFF_FREQ = 600\n",
    "\n",
    "COLOR = {\n",
    "    'susie': np.array((137, 23, 107))/255,\n",
    "    'noelle': np.array((255, 206, 49))/255,\n",
    "    # 'berdly': np.array((70, 179, 251))/255,\n",
    "    'berdly': np.array((2, 206, 253))/255,  # plug color\n",
    "    'ralsei': np.array((79, 201, 137))/255,\n",
    "    'queen': np.array((1, 161, 232))/255,\n",
    "}\n",
    "\n",
    "data_path = Path('data')\n",
    "data = {}\n",
    "\n",
    "for path in data_path.glob('*.npz'):\n",
    "    name = path.name.removesuffix('.npz')\n",
    "    npz = np.load(path)\n",
    "    scale, level = npz['scale'], npz['level']\n",
    "    cutoff_idx = np.searchsorted(scale, CUTOFF_FREQ, side='right')\n",
    "    scale, level = scale[:cutoff_idx], level[:cutoff_idx]\n",
    "    level /= np.max(level)\n",
    "    data[name] = {\n",
    "        'scale': scale,\n",
    "        'level': level,\n",
    "    }"
   ]
  },
  {
   "cell_type": "markdown",
   "metadata": {},
   "source": [
    "# Summary"
   ]
  },
  {
   "cell_type": "code",
   "execution_count": null,
   "metadata": {},
   "outputs": [],
   "source": [
    "for i, (name, wave) in enumerate(data.items()):\n",
    "    peak_idx = np.argmax(wave['level'])\n",
    "    peak_freq = wave['scale'][peak_idx]\n",
    "    plt.plot(wave['scale'], wave['level'], label=name, color=COLOR[name])\n",
    "    plt.annotate(f\"{peak_freq} Hz\", xy=(peak_freq, 1 - i*0.05), color=COLOR[name])\n",
    "\n",
    "plt.xlabel('frequency [Hz]')\n",
    "plt.legend(loc='upper left')\n",
    "plt.show()"
   ]
  },
  {
   "cell_type": "markdown",
   "metadata": {},
   "source": [
    "# Results for each character"
   ]
  },
  {
   "cell_type": "code",
   "execution_count": null,
   "metadata": {},
   "outputs": [],
   "source": [
    "def plot_one_character(name: str, low: int, high: int):\n",
    "    low_idx = np.searchsorted(data[name]['scale'], low, side='left')\n",
    "    high_idx = np.searchsorted(data[name]['scale'], high, side='right')\n",
    "    plt.xlabel('frequency [Hz]')\n",
    "    plt.plot(data[name]['scale'][low_idx:high_idx], data[name]['level'][low_idx:high_idx], color=COLOR[name])\n",
    "    plt.show()\n"
   ]
  },
  {
   "cell_type": "markdown",
   "metadata": {},
   "source": [
    "## Susie"
   ]
  },
  {
   "cell_type": "code",
   "execution_count": null,
   "metadata": {},
   "outputs": [],
   "source": [
    "plot_one_character('susie', 160, 220)"
   ]
  },
  {
   "cell_type": "markdown",
   "metadata": {},
   "source": [
    "## Ralsei"
   ]
  },
  {
   "cell_type": "code",
   "execution_count": null,
   "metadata": {},
   "outputs": [],
   "source": [
    "plot_one_character('ralsei', 180, 280)"
   ]
  },
  {
   "cell_type": "markdown",
   "metadata": {},
   "source": [
    "## Noelle"
   ]
  },
  {
   "cell_type": "code",
   "execution_count": null,
   "metadata": {},
   "outputs": [],
   "source": [
    "plot_one_character('noelle', 280, 380)"
   ]
  },
  {
   "cell_type": "markdown",
   "metadata": {},
   "source": [
    "## Berdly"
   ]
  },
  {
   "cell_type": "code",
   "execution_count": null,
   "metadata": {},
   "outputs": [],
   "source": [
    "plot_one_character('berdly', 75, 150)"
   ]
  }
 ],
 "metadata": {
  "interpreter": {
   "hash": "8f16319bf840e176f28ee59399a961f9a652daa3ea36eec9c852d3ef746b2d22"
  },
  "kernelspec": {
   "display_name": "Python 3.9.8 64-bit",
   "language": "python",
   "name": "python3"
  },
  "language_info": {
   "codemirror_mode": {
    "name": "ipython",
    "version": 3
   },
   "file_extension": ".py",
   "mimetype": "text/x-python",
   "name": "python",
   "nbconvert_exporter": "python",
   "pygments_lexer": "ipython3",
   "version": "3.9.8"
  },
  "orig_nbformat": 4
 },
 "nbformat": 4,
 "nbformat_minor": 2
}
